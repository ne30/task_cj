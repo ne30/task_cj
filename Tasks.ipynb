{
 "cells": [
  {
   "cell_type": "code",
   "execution_count": 44,
   "metadata": {},
   "outputs": [],
   "source": [
    "import pandas as pd\n",
    "import numpy as np\n",
    "import string\n",
    "import random\n",
    "import matplotlib.pyplot as plt"
   ]
  },
  {
   "cell_type": "code",
   "execution_count": 45,
   "metadata": {},
   "outputs": [],
   "source": [
    "#Creating a list of user_id\n",
    "def create_user_id(num):\n",
    "    user_id = [''.join(random.choices(string.digits, k=10)) for i in range(num)]\n",
    "    return user_id\n",
    "\n",
    "\n",
    "#Generating Random date and time\n",
    "def random_date_and_time(start, end, n):\n",
    "    return pd.to_datetime(np.random.randint(start.value//(1e9),end.value//(1e9),n), unit='s')\n",
    "\n",
    "\n",
    "#Matching the user_id and date \n",
    "def exact_user_id(user, n):\n",
    "    user_id2 = []\n",
    "    m = len(user)\n",
    "    for i in range(n):\n",
    "        temp = (np.random.randint(0,9999999))%m\n",
    "        user_id2.append(user[temp])\n",
    "    return user_id2\n"
   ]
  },
  {
   "cell_type": "code",
   "execution_count": 46,
   "metadata": {},
   "outputs": [
    {
     "name": "stdout",
     "output_type": "stream",
     "text": [
      "Number of users:\n",
      "10\n",
      "Preferred size of dataset:\n",
      "10\n"
     ]
    }
   ],
   "source": [
    "print(\"Number of users:\")\n",
    "n = int(input())\n",
    "print('Preferred size of dataset:')\n",
    "m = int(input())"
   ]
  },
  {
   "cell_type": "code",
   "execution_count": 47,
   "metadata": {},
   "outputs": [],
   "source": [
    "# start and end date time\n",
    "start = pd.to_datetime('2021-01-01')\n",
    "end = pd.to_datetime('2021-02-01')"
   ]
  },
  {
   "cell_type": "code",
   "execution_count": 48,
   "metadata": {},
   "outputs": [],
   "source": [
    "#Generating all the array\n",
    "userId = create_user_id(n)\n",
    "date = random_date_and_time(start,end,m)\n",
    "date = date.sort_values()\n",
    "user_id = exact_user_id(userId,m)"
   ]
  },
  {
   "cell_type": "code",
   "execution_count": 49,
   "metadata": {},
   "outputs": [],
   "source": [
    "df = pd.DataFrame({'user_id': user_id, 'login_date_time': date, 'event_name':'app_open'})"
   ]
  },
  {
   "cell_type": "code",
   "execution_count": 50,
   "metadata": {},
   "outputs": [
    {
     "data": {
      "text/html": [
       "<div>\n",
       "<style scoped>\n",
       "    .dataframe tbody tr th:only-of-type {\n",
       "        vertical-align: middle;\n",
       "    }\n",
       "\n",
       "    .dataframe tbody tr th {\n",
       "        vertical-align: top;\n",
       "    }\n",
       "\n",
       "    .dataframe thead th {\n",
       "        text-align: right;\n",
       "    }\n",
       "</style>\n",
       "<table border=\"1\" class=\"dataframe\">\n",
       "  <thead>\n",
       "    <tr style=\"text-align: right;\">\n",
       "      <th></th>\n",
       "      <th>user_id</th>\n",
       "      <th>login_date_time</th>\n",
       "      <th>event_name</th>\n",
       "    </tr>\n",
       "  </thead>\n",
       "  <tbody>\n",
       "    <tr>\n",
       "      <td>0</td>\n",
       "      <td>1427513775</td>\n",
       "      <td>2021-01-01 06:27:57</td>\n",
       "      <td>app_open</td>\n",
       "    </tr>\n",
       "    <tr>\n",
       "      <td>1</td>\n",
       "      <td>3067534190</td>\n",
       "      <td>2021-01-03 21:18:24</td>\n",
       "      <td>app_open</td>\n",
       "    </tr>\n",
       "    <tr>\n",
       "      <td>2</td>\n",
       "      <td>9627176285</td>\n",
       "      <td>2021-01-12 17:10:36</td>\n",
       "      <td>app_open</td>\n",
       "    </tr>\n",
       "    <tr>\n",
       "      <td>3</td>\n",
       "      <td>8750211278</td>\n",
       "      <td>2021-01-15 09:33:46</td>\n",
       "      <td>app_open</td>\n",
       "    </tr>\n",
       "    <tr>\n",
       "      <td>4</td>\n",
       "      <td>1427513775</td>\n",
       "      <td>2021-01-26 12:32:53</td>\n",
       "      <td>app_open</td>\n",
       "    </tr>\n",
       "  </tbody>\n",
       "</table>\n",
       "</div>"
      ],
      "text/plain": [
       "      user_id     login_date_time event_name\n",
       "0  1427513775 2021-01-01 06:27:57   app_open\n",
       "1  3067534190 2021-01-03 21:18:24   app_open\n",
       "2  9627176285 2021-01-12 17:10:36   app_open\n",
       "3  8750211278 2021-01-15 09:33:46   app_open\n",
       "4  1427513775 2021-01-26 12:32:53   app_open"
      ]
     },
     "execution_count": 50,
     "metadata": {},
     "output_type": "execute_result"
    }
   ],
   "source": [
    "df.head()"
   ]
  },
  {
   "cell_type": "code",
   "execution_count": 51,
   "metadata": {},
   "outputs": [
    {
     "data": {
      "text/plain": [
       "(10, 3)"
      ]
     },
     "execution_count": 51,
     "metadata": {},
     "output_type": "execute_result"
    }
   ],
   "source": [
    "df.shape"
   ]
  },
  {
   "cell_type": "code",
   "execution_count": 52,
   "metadata": {},
   "outputs": [],
   "source": [
    "df.to_csv(\"output_task_1.csv\", index=False)"
   ]
  },
  {
   "cell_type": "code",
   "execution_count": null,
   "metadata": {},
   "outputs": [],
   "source": []
  },
  {
   "cell_type": "code",
   "execution_count": null,
   "metadata": {},
   "outputs": [],
   "source": []
  },
  {
   "cell_type": "code",
   "execution_count": null,
   "metadata": {},
   "outputs": [],
   "source": []
  },
  {
   "cell_type": "code",
   "execution_count": 53,
   "metadata": {},
   "outputs": [],
   "source": [
    "#Storing the frequency of users that are active in a particular time period of 0-1, 1-2, ...\n",
    "login_freq = [ 0 for i in range(24)]\n",
    "\n",
    "#Age data to store the first and last login\n",
    "user_age_data = {}\n",
    "\n",
    "#Login Count store for any User \n",
    "login_count_data = {}\n",
    "\n",
    "for i in range(df.shape[0]):\n",
    "    if df.iloc[i][0] in user_age_data:\n",
    "        if(user_age_data[df.iloc[i][0]][1].day != df.iloc[i][1].day):\n",
    "            login_count_data[df.iloc[i][0]] += 1\n",
    "        user_age_data[df.iloc[i][0]][1] = df.iloc[i][1]\n",
    "    else:\n",
    "        temp = [df.iloc[i][1],df.iloc[i][1]]\n",
    "        user_age_data[df.iloc[i][0]]=temp\n",
    "        login_count_data[df.iloc[i][0]] = 1\n",
    "\n",
    "    hr = df.iloc[i][1].hour\n",
    "    mn = df.iloc[i][1].minute\n",
    "    if(mn==0 and hr>0):\n",
    "        login_freq[hr-1] += 1\n",
    "    else:\n",
    "        login_freq[hr] += 1"
   ]
  },
  {
   "cell_type": "code",
   "execution_count": 54,
   "metadata": {},
   "outputs": [],
   "source": [
    "#Saving the Login count for the users\n",
    "users_login = df['user_id'].unique()\n",
    "count_login = [ login_count_data[i] for i in users_login]\n",
    "df_count = pd.DataFrame({'user_id':users_login, 'login_count': count_login})\n",
    "df_count.to_csv(\"login_count.csv\",index=False)"
   ]
  },
  {
   "cell_type": "code",
   "execution_count": 55,
   "metadata": {},
   "outputs": [
    {
     "name": "stdout",
     "output_type": "stream",
     "text": [
      "30\n",
      "1\n",
      "16\n",
      "1\n",
      "1\n",
      "1\n"
     ]
    }
   ],
   "source": [
    "#The frequency of day wise\n",
    "age_data = [ 0 for _ in range(7)]\n",
    "\n",
    "for key, value in user_age_data.items():\n",
    "    val = (value[1] - value[0]).days + 1\n",
    "    print(val)\n",
    "    if val>=11 and val<=20:\n",
    "        age_data[6] += 1\n",
    "    elif val<11 and val>=6:\n",
    "        age_data[5] += 1\n",
    "    elif val<6:\n",
    "        age_data[val-1] += 1"
   ]
  },
  {
   "cell_type": "code",
   "execution_count": 56,
   "metadata": {},
   "outputs": [],
   "source": [
    "#Percentage generation for the dataframe\n",
    "age_data_percent = [round((age_data[i]*100)/len(user_age_data),2) for i in range(7)]"
   ]
  },
  {
   "cell_type": "code",
   "execution_count": null,
   "metadata": {},
   "outputs": [],
   "source": []
  },
  {
   "cell_type": "code",
   "execution_count": 57,
   "metadata": {},
   "outputs": [
    {
     "data": {
      "image/png": "[encoded data removed]",
      "text/plain": [
       "<Figure size 432x288 with 1 Axes>"
      ]
     },
     "metadata": {},
     "output_type": "display_data"
    }
   ],
   "source": [
    "#Pie chart on distribution of User Age\n",
    "age_data_col_name = ['Day1','Day2','Day3','Day4','Day5','Day6 to Day10','Day11 to Day20']\n",
    "color_col = ['#F47A1F','#FDBB2F','#377B2B','#7AC142','#007CC3','#00529B','#F7B7A3']\n",
    "plt.pie(age_data,colors=color_col,startangle=90,shadow=True)\n",
    "plt.legend(labels=age_data_col_name,bbox_to_anchor=(1,0), loc=\"lower right\",bbox_transform=plt.gcf().transFigure)\n",
    "plt.title(\"Percentage of Users Age\")\n",
    "plt.show()"
   ]
  },
  {
   "cell_type": "code",
   "execution_count": 58,
   "metadata": {},
   "outputs": [],
   "source": [
    "df_age = pd.DataFrame({'% users':age_data_percent, 'Age': age_data_col_name})\n",
    "df_age['% users'] = df_age['% users'].astype(str) + '%'"
   ]
  },
  {
   "cell_type": "code",
   "execution_count": 59,
   "metadata": {},
   "outputs": [
    {
     "data": {
      "text/html": [
       "<div>\n",
       "<style scoped>\n",
       "    .dataframe tbody tr th:only-of-type {\n",
       "        vertical-align: middle;\n",
       "    }\n",
       "\n",
       "    .dataframe tbody tr th {\n",
       "        vertical-align: top;\n",
       "    }\n",
       "\n",
       "    .dataframe thead th {\n",
       "        text-align: right;\n",
       "    }\n",
       "</style>\n",
       "<table border=\"1\" class=\"dataframe\">\n",
       "  <thead>\n",
       "    <tr style=\"text-align: right;\">\n",
       "      <th></th>\n",
       "      <th>% users</th>\n",
       "      <th>Age</th>\n",
       "    </tr>\n",
       "  </thead>\n",
       "  <tbody>\n",
       "    <tr>\n",
       "      <td>0</td>\n",
       "      <td>66.67%</td>\n",
       "      <td>Day1</td>\n",
       "    </tr>\n",
       "    <tr>\n",
       "      <td>1</td>\n",
       "      <td>0.0%</td>\n",
       "      <td>Day2</td>\n",
       "    </tr>\n",
       "    <tr>\n",
       "      <td>2</td>\n",
       "      <td>0.0%</td>\n",
       "      <td>Day3</td>\n",
       "    </tr>\n",
       "    <tr>\n",
       "      <td>3</td>\n",
       "      <td>0.0%</td>\n",
       "      <td>Day4</td>\n",
       "    </tr>\n",
       "    <tr>\n",
       "      <td>4</td>\n",
       "      <td>0.0%</td>\n",
       "      <td>Day5</td>\n",
       "    </tr>\n",
       "    <tr>\n",
       "      <td>5</td>\n",
       "      <td>0.0%</td>\n",
       "      <td>Day6 to Day10</td>\n",
       "    </tr>\n",
       "    <tr>\n",
       "      <td>6</td>\n",
       "      <td>16.67%</td>\n",
       "      <td>Day11 to Day20</td>\n",
       "    </tr>\n",
       "  </tbody>\n",
       "</table>\n",
       "</div>"
      ],
      "text/plain": [
       "  % users             Age\n",
       "0  66.67%            Day1\n",
       "1    0.0%            Day2\n",
       "2    0.0%            Day3\n",
       "3    0.0%            Day4\n",
       "4    0.0%            Day5\n",
       "5    0.0%   Day6 to Day10\n",
       "6  16.67%  Day11 to Day20"
      ]
     },
     "execution_count": 59,
     "metadata": {},
     "output_type": "execute_result"
    }
   ],
   "source": [
    "df_age"
   ]
  },
  {
   "cell_type": "code",
   "execution_count": 60,
   "metadata": {},
   "outputs": [],
   "source": [
    "#Saving the age percentage to a csv\n",
    "df_age.to_csv(\"user_age.csv\", index=False)"
   ]
  },
  {
   "cell_type": "code",
   "execution_count": 61,
   "metadata": {},
   "outputs": [
    {
     "data": {
      "text/plain": [
       "{'0-1': 0,\n",
       " '1-2': 0,\n",
       " '2-3': 0,\n",
       " '3-4': 0,\n",
       " '4-5': 0,\n",
       " '5-6': 0,\n",
       " '6-7': 1,\n",
       " '7-8': 0,\n",
       " '8-9': 0,\n",
       " '9-10': 2,\n",
       " '10-11': 0,\n",
       " '11-12': 0,\n",
       " '12-13': 1,\n",
       " '13-14': 0,\n",
       " '14-15': 0,\n",
       " '15-16': 0,\n",
       " '16-17': 1,\n",
       " '17-18': 2,\n",
       " '18-19': 0,\n",
       " '19-20': 0,\n",
       " '20-21': 0,\n",
       " '21-22': 1,\n",
       " '22-23': 2,\n",
       " '23-0': 0}"
      ]
     },
     "execution_count": 61,
     "metadata": {},
     "output_type": "execute_result"
    }
   ],
   "source": [
    "#Login frequency of all the users to get the detail at which time users are most active \n",
    "login_freq_dict = { str(i)+\"-\"+str(i+1):login_freq[i] for i in range(23)}\n",
    "login_freq_dict['23-0'] = login_freq[23]\n",
    "login_freq_dict"
   ]
  },
  {
   "cell_type": "code",
   "execution_count": 62,
   "metadata": {},
   "outputs": [],
   "source": [
    "#Getting the top 5 time interval in which users are most active\n",
    "login_top = {k: v for k, v in sorted(login_freq_dict.items(), key=lambda item: item[1], reverse=True)}\n",
    "login_top_5 = {k: login_top[k] for k in list(login_top)[:5]}\n",
    "login_top_5_colour = []\n",
    "for k in login_freq_dict.keys():\n",
    "    if k in login_top_5.keys():\n",
    "        login_top_5_colour.append('r')\n",
    "    else:\n",
    "        login_top_5_colour.append('grey')        "
   ]
  },
  {
   "cell_type": "code",
   "execution_count": 63,
   "metadata": {},
   "outputs": [
    {
     "data": {
      "image/png": "[encoded data removed]",
      "text/plain": [
       "<Figure size 432x288 with 1 Axes>"
      ]
     },
     "metadata": {
      "needs_background": "light"
     },
     "output_type": "display_data"
    }
   ],
   "source": [
    "#Red shows the top 5 users engagement time.\n",
    "plt.bar(login_freq_dict.keys(),login_freq_dict.values(), align='edge', width=0.3, color=login_top_5_colour)\n",
    "plt.title(\"Frequency distribution (in 24 hr) how any user login\")\n",
    "plt.ylabel(\"Users login count\")\n",
    "plt.xlabel(\"Time\")\n",
    "plt.xticks(rotation=60)\n",
    "plt.show()"
   ]
  },
  {
   "cell_type": "code",
   "execution_count": null,
   "metadata": {},
   "outputs": [],
   "source": []
  },
  {
   "cell_type": "code",
   "execution_count": null,
   "metadata": {},
   "outputs": [],
   "source": []
  }
 ],
 "metadata": {
  "kernelspec": {
   "display_name": "Python 3",
   "language": "python",
   "name": "python3"
  },
  "language_info": {
   "codemirror_mode": {
    "name": "ipython",
    "version": 3
   },
   "file_extension": ".py",
   "mimetype": "text/x-python",
   "name": "python",
   "nbconvert_exporter": "python",
   "pygments_lexer": "ipython3",
   "version": "3.7.4"
  }
 },
 "nbformat": 4,
 "nbformat_minor": 2
}
