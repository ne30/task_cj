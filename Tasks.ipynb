{
 "cells": [
  {
   "cell_type": "code",
   "execution_count": 24,
   "metadata": {},
   "outputs": [],
   "source": [
    "import pandas as pd\n",
    "import numpy as np\n",
    "import string\n",
    "import random\n",
    "import matplotlib.pyplot as plt\n",
    "import time"
   ]
  },
  {
   "cell_type": "code",
   "execution_count": 25,
   "metadata": {},
   "outputs": [],
   "source": [
    "#Creating a list of user_id\n",
    "def create_user_id(num):\n",
    "    user_id = [''.join(random.choices(string.digits, k=10)) for i in range(num)]\n",
    "    return user_id\n",
    "\n",
    "\n",
    "#Generating Random date and time\n",
    "def random_date_and_time(start, end, n):\n",
    "    return pd.to_datetime(np.random.randint(start.value//(1e9),end.value//(1e9),n), unit='s')\n",
    "\n",
    "\n",
    "#Matching the user_id and date \n",
    "def exact_user_id(user, n):\n",
    "    user_id2 = []\n",
    "    m = len(user)\n",
    "    for i in range(n):\n",
    "        temp = (np.random.randint(0,9999999))%m\n",
    "        user_id2.append(user[temp])\n",
    "    return user_id2\n"
   ]
  },
  {
   "cell_type": "code",
   "execution_count": 26,
   "metadata": {},
   "outputs": [
    {
     "name": "stdout",
     "output_type": "stream",
     "text": [
      "Number of users:\n",
      "1000\n",
      "Preferred size of dataset:\n",
      "4000\n"
     ]
    }
   ],
   "source": [
    "print(\"Number of users:\")\n",
    "n = int(input())\n",
    "print('Preferred size of dataset:')\n",
    "m = int(input())"
   ]
  },
  {
   "cell_type": "code",
   "execution_count": 27,
   "metadata": {},
   "outputs": [],
   "source": [
    "# start and end date time\n",
    "start = pd.to_datetime('2021-01-01')\n",
    "end = pd.to_datetime('2021-02-01')"
   ]
  },
  {
   "cell_type": "code",
   "execution_count": 28,
   "metadata": {},
   "outputs": [],
   "source": [
    "#Generating all the array\n",
    "userId = create_user_id(n)\n",
    "date = random_date_and_time(start,end,m)\n",
    "date = date.sort_values()\n",
    "user_id = exact_user_id(userId,m)"
   ]
  },
  {
   "cell_type": "code",
   "execution_count": 29,
   "metadata": {},
   "outputs": [],
   "source": [
    "df = pd.DataFrame({'user_id': user_id, 'login_date_time': date, 'event_name':'app_open'})"
   ]
  },
  {
   "cell_type": "code",
   "execution_count": 30,
   "metadata": {},
   "outputs": [
    {
     "data": {
      "text/html": [
       "<div>\n",
       "<style scoped>\n",
       "    .dataframe tbody tr th:only-of-type {\n",
       "        vertical-align: middle;\n",
       "    }\n",
       "\n",
       "    .dataframe tbody tr th {\n",
       "        vertical-align: top;\n",
       "    }\n",
       "\n",
       "    .dataframe thead th {\n",
       "        text-align: right;\n",
       "    }\n",
       "</style>\n",
       "<table border=\"1\" class=\"dataframe\">\n",
       "  <thead>\n",
       "    <tr style=\"text-align: right;\">\n",
       "      <th></th>\n",
       "      <th>user_id</th>\n",
       "      <th>login_date_time</th>\n",
       "      <th>event_name</th>\n",
       "    </tr>\n",
       "  </thead>\n",
       "  <tbody>\n",
       "    <tr>\n",
       "      <td>0</td>\n",
       "      <td>5421422666</td>\n",
       "      <td>2021-01-01 00:06:43</td>\n",
       "      <td>app_open</td>\n",
       "    </tr>\n",
       "    <tr>\n",
       "      <td>1</td>\n",
       "      <td>6147948537</td>\n",
       "      <td>2021-01-01 00:11:50</td>\n",
       "      <td>app_open</td>\n",
       "    </tr>\n",
       "    <tr>\n",
       "      <td>2</td>\n",
       "      <td>0660028638</td>\n",
       "      <td>2021-01-01 00:20:47</td>\n",
       "      <td>app_open</td>\n",
       "    </tr>\n",
       "    <tr>\n",
       "      <td>3</td>\n",
       "      <td>3546796468</td>\n",
       "      <td>2021-01-01 00:23:06</td>\n",
       "      <td>app_open</td>\n",
       "    </tr>\n",
       "    <tr>\n",
       "      <td>4</td>\n",
       "      <td>6447107981</td>\n",
       "      <td>2021-01-01 00:24:14</td>\n",
       "      <td>app_open</td>\n",
       "    </tr>\n",
       "  </tbody>\n",
       "</table>\n",
       "</div>"
      ],
      "text/plain": [
       "      user_id     login_date_time event_name\n",
       "0  5421422666 2021-01-01 00:06:43   app_open\n",
       "1  6147948537 2021-01-01 00:11:50   app_open\n",
       "2  0660028638 2021-01-01 00:20:47   app_open\n",
       "3  3546796468 2021-01-01 00:23:06   app_open\n",
       "4  6447107981 2021-01-01 00:24:14   app_open"
      ]
     },
     "execution_count": 30,
     "metadata": {},
     "output_type": "execute_result"
    }
   ],
   "source": [
    "df.head()"
   ]
  },
  {
   "cell_type": "code",
   "execution_count": 31,
   "metadata": {},
   "outputs": [
    {
     "data": {
      "text/plain": [
       "(4000, 3)"
      ]
     },
     "execution_count": 31,
     "metadata": {},
     "output_type": "execute_result"
    }
   ],
   "source": [
    "df.shape"
   ]
  },
  {
   "cell_type": "code",
   "execution_count": 32,
   "metadata": {},
   "outputs": [],
   "source": [
    "df.to_csv(\"output_task_1.csv\", index=False)"
   ]
  },
  {
   "cell_type": "code",
   "execution_count": null,
   "metadata": {},
   "outputs": [],
   "source": []
  },
  {
   "cell_type": "code",
   "execution_count": null,
   "metadata": {},
   "outputs": [],
   "source": []
  },
  {
   "cell_type": "code",
   "execution_count": null,
   "metadata": {},
   "outputs": [],
   "source": []
  },
  {
   "cell_type": "code",
   "execution_count": 33,
   "metadata": {},
   "outputs": [
    {
     "name": "stdout",
     "output_type": "stream",
     "text": [
      "Running time: {3.110914945602417}\n"
     ]
    }
   ],
   "source": [
    "start = time.time()\n",
    "\n",
    "#Grouping data on basis of user_id\n",
    "df_user_group = df.groupby('user_id')\n",
    "\n",
    "#Age data to store the day difference\n",
    "#Using goup by, 0th row and last row in that\n",
    "user_age_data = {}\n",
    "\n",
    "#Login Count store for any User \n",
    "#Using group by and shape[0]\n",
    "login_count_data = {}\n",
    "\n",
    "for user_itr, user_itr_df  in df_user_group:\n",
    "    login_count = user_itr_df.shape[0]\n",
    "    \n",
    "    #If user has logged in only 1 time\n",
    "    if login_count == 1:\n",
    "        user_age_data[user_itr] = 1\n",
    "    else:\n",
    "        user_age_data[user_itr] = (user_itr_df.iloc[login_count-1][\"login_date_time\"] - user_itr_df.iloc[0][\"login_date_time\"]).days + 1\n",
    "    \n",
    "    #Using the group by to get the unique dates on which user logged in i.e. logged in same day twice will be counted as one login.\n",
    "    df_user_login_count = user_itr_df.groupby([user_itr_df['login_date_time'].dt.date])\n",
    "    login_count_data[user_itr] = len(df_user_login_count)\n",
    "\n",
    "    \n",
    "end = time.time()\n",
    "\n",
    "print(\"Running time:\", end-start)"
   ]
  },
  {
   "cell_type": "code",
   "execution_count": 36,
   "metadata": {},
   "outputs": [
    {
     "name": "stdout",
     "output_type": "stream",
     "text": [
      "Running time: 0.012569665908813477\n"
     ]
    }
   ],
   "source": [
    "start = time.time()\n",
    "\n",
    "#Storing the frequency of users that are active in a particular time period of 0-1, 1-2, ...\n",
    "login_freq = [ 0 for i in range(24)]\n",
    "\n",
    "#Login Time grouping\n",
    "df_login_count_group = df.groupby([df['login_date_time'].dt.hour])\n",
    "\n",
    "#Storing the frequency of time period using the generated dataframe in groupby\n",
    "for time_group, group_count in df_login_count_group:\n",
    "    login_freq[time_group] = group_count.shape[0]\n",
    "    \n",
    "end = time.time()\n",
    "\n",
    "print(\"Running time:\", end-start)"
   ]
  },
  {
   "cell_type": "code",
   "execution_count": null,
   "metadata": {},
   "outputs": [],
   "source": []
  },
  {
   "cell_type": "code",
   "execution_count": null,
   "metadata": {},
   "outputs": [],
   "source": []
  },
  {
   "cell_type": "code",
   "execution_count": null,
   "metadata": {},
   "outputs": [],
   "source": []
  },
  {
   "cell_type": "code",
   "execution_count": 13,
   "metadata": {},
   "outputs": [],
   "source": [
    "#Saving the Login count for the users\n",
    "df_count = pd.DataFrame(login_count_data.items(), columns=['user_id', 'login_count'])\n",
    "df_count.to_csv(\"login_count.csv\",index=False)"
   ]
  },
  {
   "cell_type": "code",
   "execution_count": 14,
   "metadata": {},
   "outputs": [],
   "source": [
    "#The frequency of day wise\n",
    "age_data = [ 0 for _ in range(7)]\n",
    "\n",
    "for key, val in user_age_data.items():\n",
    "    #print(val)\n",
    "    if val>=11 and val<=20:\n",
    "        age_data[6] += 1\n",
    "    elif val<11 and val>=6:\n",
    "        age_data[5] += 1\n",
    "    elif val<6:\n",
    "        age_data[val-1] += 1"
   ]
  },
  {
   "cell_type": "code",
   "execution_count": 15,
   "metadata": {},
   "outputs": [],
   "source": [
    "#Percentage generation for the dataframe\n",
    "age_data_percent = [round((age_data[i]*100)/len(user_age_data),2) for i in range(7)]"
   ]
  },
  {
   "cell_type": "code",
   "execution_count": null,
   "metadata": {},
   "outputs": [],
   "source": []
  },
  {
   "cell_type": "code",
   "execution_count": 16,
   "metadata": {},
   "outputs": [
    {
     "data": {
      "image/png": "[encoded data removed]",
      "text/plain": [
       "<Figure size 432x288 with 1 Axes>"
      ]
     },
     "metadata": {},
     "output_type": "display_data"
    }
   ],
   "source": [
    "#Pie chart on distribution of User Age\n",
    "age_data_col_name = ['Day1','Day2','Day3','Day4','Day5','Day6 to Day10','Day11 to Day20']\n",
    "color_col = ['#F47A1F','#FDBB2F','#377B2B','#7AC142','#007CC3','#00529B','#F7B7A3']\n",
    "plt.pie(age_data,colors=color_col,startangle=90,shadow=True)\n",
    "plt.legend(labels=age_data_col_name,bbox_to_anchor=(1,0), loc=\"lower right\",bbox_transform=plt.gcf().transFigure)\n",
    "plt.title(\"Percentage of Users Age\")\n",
    "plt.show()"
   ]
  },
  {
   "cell_type": "code",
   "execution_count": 17,
   "metadata": {},
   "outputs": [],
   "source": [
    "df_age = pd.DataFrame({'% users':age_data_percent, 'Age': age_data_col_name})\n",
    "df_age['% users'] = df_age['% users'].astype(str) + '%'"
   ]
  },
  {
   "cell_type": "code",
   "execution_count": 18,
   "metadata": {},
   "outputs": [
    {
     "data": {
      "text/html": [
       "<div>\n",
       "<style scoped>\n",
       "    .dataframe tbody tr th:only-of-type {\n",
       "        vertical-align: middle;\n",
       "    }\n",
       "\n",
       "    .dataframe tbody tr th {\n",
       "        vertical-align: top;\n",
       "    }\n",
       "\n",
       "    .dataframe thead th {\n",
       "        text-align: right;\n",
       "    }\n",
       "</style>\n",
       "<table border=\"1\" class=\"dataframe\">\n",
       "  <thead>\n",
       "    <tr style=\"text-align: right;\">\n",
       "      <th></th>\n",
       "      <th>% users</th>\n",
       "      <th>Age</th>\n",
       "    </tr>\n",
       "  </thead>\n",
       "  <tbody>\n",
       "    <tr>\n",
       "      <td>0</td>\n",
       "      <td>16.95%</td>\n",
       "      <td>Day1</td>\n",
       "    </tr>\n",
       "    <tr>\n",
       "      <td>1</td>\n",
       "      <td>1.65%</td>\n",
       "      <td>Day2</td>\n",
       "    </tr>\n",
       "    <tr>\n",
       "      <td>2</td>\n",
       "      <td>1.89%</td>\n",
       "      <td>Day3</td>\n",
       "    </tr>\n",
       "    <tr>\n",
       "      <td>3</td>\n",
       "      <td>2.01%</td>\n",
       "      <td>Day4</td>\n",
       "    </tr>\n",
       "    <tr>\n",
       "      <td>4</td>\n",
       "      <td>1.8%</td>\n",
       "      <td>Day5</td>\n",
       "    </tr>\n",
       "    <tr>\n",
       "      <td>5</td>\n",
       "      <td>11.42%</td>\n",
       "      <td>Day6 to Day10</td>\n",
       "    </tr>\n",
       "    <tr>\n",
       "      <td>6</td>\n",
       "      <td>32.85%</td>\n",
       "      <td>Day11 to Day20</td>\n",
       "    </tr>\n",
       "  </tbody>\n",
       "</table>\n",
       "</div>"
      ],
      "text/plain": [
       "  % users             Age\n",
       "0  16.95%            Day1\n",
       "1   1.65%            Day2\n",
       "2   1.89%            Day3\n",
       "3   2.01%            Day4\n",
       "4    1.8%            Day5\n",
       "5  11.42%   Day6 to Day10\n",
       "6  32.85%  Day11 to Day20"
      ]
     },
     "execution_count": 18,
     "metadata": {},
     "output_type": "execute_result"
    }
   ],
   "source": [
    "df_age"
   ]
  },
  {
   "cell_type": "code",
   "execution_count": 19,
   "metadata": {},
   "outputs": [],
   "source": [
    "#Saving the age percentage to a csv\n",
    "df_age.to_csv(\"user_age.csv\", index=False)"
   ]
  },
  {
   "cell_type": "code",
   "execution_count": 20,
   "metadata": {},
   "outputs": [
    {
     "data": {
      "text/plain": [
       "{'0-1': 1247,\n",
       " '1-2': 1261,\n",
       " '2-3': 1253,\n",
       " '3-4': 1270,\n",
       " '4-5': 1244,\n",
       " '5-6': 1249,\n",
       " '6-7': 1241,\n",
       " '7-8': 1270,\n",
       " '8-9': 1243,\n",
       " '9-10': 1202,\n",
       " '10-11': 1232,\n",
       " '11-12': 1248,\n",
       " '12-13': 1199,\n",
       " '13-14': 1314,\n",
       " '14-15': 1246,\n",
       " '15-16': 1233,\n",
       " '16-17': 1244,\n",
       " '17-18': 1236,\n",
       " '18-19': 1302,\n",
       " '19-20': 1298,\n",
       " '20-21': 1240,\n",
       " '21-22': 1249,\n",
       " '22-23': 1256,\n",
       " '23-0': 1223}"
      ]
     },
     "execution_count": 20,
     "metadata": {},
     "output_type": "execute_result"
    }
   ],
   "source": [
    "#Login frequency of all the users to get the detail at which time users are most active \n",
    "login_freq_dict = { str(i)+\"-\"+str(i+1):login_freq[i] for i in range(23)}\n",
    "login_freq_dict['23-0'] = login_freq[23]\n",
    "login_freq_dict"
   ]
  },
  {
   "cell_type": "code",
   "execution_count": 21,
   "metadata": {},
   "outputs": [],
   "source": [
    "#Getting the top 5 time interval in which users are most active\n",
    "login_top = {k: v for k, v in sorted(login_freq_dict.items(), key=lambda item: item[1], reverse=True)}\n",
    "login_top_5 = {k: login_top[k] for k in list(login_top)[:5]}\n",
    "login_top_5_colour = []\n",
    "for k in login_freq_dict.keys():\n",
    "    if k in login_top_5.keys():\n",
    "        login_top_5_colour.append('r')\n",
    "    else:\n",
    "        login_top_5_colour.append('grey')        "
   ]
  },
  {
   "cell_type": "code",
   "execution_count": 22,
   "metadata": {},
   "outputs": [
    {
     "data": {
      "image/png": "[encoded data removed]",
      "text/plain": [
       "<Figure size 432x288 with 1 Axes>"
      ]
     },
     "metadata": {
      "needs_background": "light"
     },
     "output_type": "display_data"
    }
   ],
   "source": [
    "#Red shows the top 5 users engagement time.\n",
    "plt.bar(login_freq_dict.keys(),login_freq_dict.values(), align='edge', width=0.3, color=login_top_5_colour)\n",
    "plt.title(\"Frequency distribution (in 24 hr) how any user login\")\n",
    "plt.ylabel(\"Users login count\")\n",
    "plt.xlabel(\"Time\")\n",
    "plt.xticks(rotation=60)\n",
    "plt.show()"
   ]
  },
  {
   "cell_type": "code",
   "execution_count": null,
   "metadata": {},
   "outputs": [],
   "source": []
  },
  {
   "cell_type": "code",
   "execution_count": null,
   "metadata": {},
   "outputs": [],
   "source": []
  }
 ],
 "metadata": {
  "kernelspec": {
   "display_name": "Python 3",
   "language": "python",
   "name": "python3"
  },
  "language_info": {
   "codemirror_mode": {
    "name": "ipython",
    "version": 3
   },
   "file_extension": ".py",
   "mimetype": "text/x-python",
   "name": "python",
   "nbconvert_exporter": "python",
   "pygments_lexer": "ipython3",
   "version": "3.7.4"
  }
 },
 "nbformat": 4,
 "nbformat_minor": 2
}
