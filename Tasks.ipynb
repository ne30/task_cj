{
 "cells": [
  {
   "cell_type": "code",
   "execution_count": 1,
   "metadata": {},
   "outputs": [],
   "source": [
    "import pandas as pd\n",
    "import numpy as np\n",
    "import string\n",
    "import random\n",
    "import matplotlib.pyplot as plt"
   ]
  },
  {
   "cell_type": "code",
   "execution_count": 2,
   "metadata": {},
   "outputs": [],
   "source": [
    "#Creating a list of user_id\n",
    "def create_user_id(num):\n",
    "    user_id = [''.join(random.choices(string.digits, k=10)) for i in range(num)]\n",
    "    return user_id\n",
    "\n",
    "\n",
    "#Generating Random date and time\n",
    "def random_date_and_time(start, end, n):\n",
    "    return pd.to_datetime(np.random.randint(start.value//(1e9),end.value//(1e9),n), unit='s')\n",
    "\n",
    "\n",
    "#Matching the user_id and date \n",
    "def exact_user_id(user, n):\n",
    "    user_id2 = []\n",
    "    m = len(user)\n",
    "    for i in range(n):\n",
    "        temp = (np.random.randint(0,9999999))%m\n",
    "        user_id2.append(user[temp])\n",
    "    return user_id2\n"
   ]
  },
  {
   "cell_type": "code",
   "execution_count": 3,
   "metadata": {},
   "outputs": [
    {
     "name": "stdout",
     "output_type": "stream",
     "text": [
      "Number of users:\n",
      "5000\n",
      "Preferred size of dataset:\n",
      "8000\n"
     ]
    }
   ],
   "source": [
    "print(\"Number of users:\")\n",
    "n = int(input())\n",
    "print('Preferred size of dataset:')\n",
    "m = int(input())"
   ]
  },
  {
   "cell_type": "code",
   "execution_count": 4,
   "metadata": {},
   "outputs": [],
   "source": [
    "# start and end date time\n",
    "start = pd.to_datetime('2021-01-01')\n",
    "end = pd.to_datetime('2021-02-01')"
   ]
  },
  {
   "cell_type": "code",
   "execution_count": 5,
   "metadata": {},
   "outputs": [],
   "source": [
    "#Generating all the array\n",
    "userId = create_user_id(n)\n",
    "date = random_date_and_time(start,end,m)\n",
    "date = date.sort_values()\n",
    "user_id = exact_user_id(userId,m)"
   ]
  },
  {
   "cell_type": "code",
   "execution_count": 6,
   "metadata": {},
   "outputs": [],
   "source": [
    "df = pd.DataFrame({'user_id': user_id, 'login_date_time': date, 'event_name':'app_open'})"
   ]
  },
  {
   "cell_type": "code",
   "execution_count": 7,
   "metadata": {},
   "outputs": [
    {
     "data": {
      "text/html": [
       "<div>\n",
       "<style scoped>\n",
       "    .dataframe tbody tr th:only-of-type {\n",
       "        vertical-align: middle;\n",
       "    }\n",
       "\n",
       "    .dataframe tbody tr th {\n",
       "        vertical-align: top;\n",
       "    }\n",
       "\n",
       "    .dataframe thead th {\n",
       "        text-align: right;\n",
       "    }\n",
       "</style>\n",
       "<table border=\"1\" class=\"dataframe\">\n",
       "  <thead>\n",
       "    <tr style=\"text-align: right;\">\n",
       "      <th></th>\n",
       "      <th>user_id</th>\n",
       "      <th>login_date_time</th>\n",
       "      <th>event_name</th>\n",
       "    </tr>\n",
       "  </thead>\n",
       "  <tbody>\n",
       "    <tr>\n",
       "      <td>0</td>\n",
       "      <td>2662900598</td>\n",
       "      <td>2021-01-01 00:02:04</td>\n",
       "      <td>app_open</td>\n",
       "    </tr>\n",
       "    <tr>\n",
       "      <td>1</td>\n",
       "      <td>4547560397</td>\n",
       "      <td>2021-01-01 00:08:04</td>\n",
       "      <td>app_open</td>\n",
       "    </tr>\n",
       "    <tr>\n",
       "      <td>2</td>\n",
       "      <td>8180839343</td>\n",
       "      <td>2021-01-01 00:08:06</td>\n",
       "      <td>app_open</td>\n",
       "    </tr>\n",
       "    <tr>\n",
       "      <td>3</td>\n",
       "      <td>8812096108</td>\n",
       "      <td>2021-01-01 00:10:43</td>\n",
       "      <td>app_open</td>\n",
       "    </tr>\n",
       "    <tr>\n",
       "      <td>4</td>\n",
       "      <td>5327588093</td>\n",
       "      <td>2021-01-01 00:20:17</td>\n",
       "      <td>app_open</td>\n",
       "    </tr>\n",
       "  </tbody>\n",
       "</table>\n",
       "</div>"
      ],
      "text/plain": [
       "      user_id     login_date_time event_name\n",
       "0  2662900598 2021-01-01 00:02:04   app_open\n",
       "1  4547560397 2021-01-01 00:08:04   app_open\n",
       "2  8180839343 2021-01-01 00:08:06   app_open\n",
       "3  8812096108 2021-01-01 00:10:43   app_open\n",
       "4  5327588093 2021-01-01 00:20:17   app_open"
      ]
     },
     "execution_count": 7,
     "metadata": {},
     "output_type": "execute_result"
    }
   ],
   "source": [
    "df.head()"
   ]
  },
  {
   "cell_type": "code",
   "execution_count": 8,
   "metadata": {},
   "outputs": [
    {
     "data": {
      "text/plain": [
       "(8000, 3)"
      ]
     },
     "execution_count": 8,
     "metadata": {},
     "output_type": "execute_result"
    }
   ],
   "source": [
    "df.shape"
   ]
  },
  {
   "cell_type": "code",
   "execution_count": 9,
   "metadata": {},
   "outputs": [],
   "source": [
    "df.to_csv(\"output_task_1.csv\")"
   ]
  },
  {
   "cell_type": "code",
   "execution_count": null,
   "metadata": {},
   "outputs": [],
   "source": []
  },
  {
   "cell_type": "code",
   "execution_count": null,
   "metadata": {},
   "outputs": [],
   "source": []
  },
  {
   "cell_type": "code",
   "execution_count": null,
   "metadata": {},
   "outputs": [],
   "source": []
  },
  {
   "cell_type": "code",
   "execution_count": 10,
   "metadata": {},
   "outputs": [],
   "source": [
    "#Storing the frequency of users that are active in a particular time period of 0-1, 1-2, ...\n",
    "login_freq = [ 0 for i in range(24)]\n",
    "\n",
    "#Age data to store the first and last login\n",
    "user_age_data = {}\n",
    "\n",
    "\n",
    "for i in range(df.shape[0]):\n",
    "    if df.iloc[i][0] in user_age_data:\n",
    "        user_age_data[df.iloc[i][0]][1] = df.iloc[i][1]\n",
    "    else:\n",
    "        temp = [df.iloc[i][1],df.iloc[i][1]]\n",
    "        user_age_data[df.iloc[i][0]]=temp\n",
    "\n",
    "    hr = df.iloc[i][1].hour\n",
    "    mn = df.iloc[i][1].minute\n",
    "    if(mn==0 and hr>0):\n",
    "        login_freq[hr-1] += 1\n",
    "    else:\n",
    "        login_freq[hr] += 1"
   ]
  },
  {
   "cell_type": "code",
   "execution_count": 11,
   "metadata": {},
   "outputs": [],
   "source": [
    "#The frequency of day wise\n",
    "age_data = [ 0 for _ in range(7)]\n",
    "\n",
    "for key, value in user_age_data.items():\n",
    "    val = (value[1] - value[0]).days + 1\n",
    "    #print(val)\n",
    "    if val>=11:\n",
    "        age_data[6] += 1\n",
    "    elif val<11 and val>=6:\n",
    "        age_data[5] += 1\n",
    "    else:\n",
    "        age_data[val-1] += 1"
   ]
  },
  {
   "cell_type": "code",
   "execution_count": 12,
   "metadata": {},
   "outputs": [],
   "source": [
    "#Percentage generation for the dataframe\n",
    "age_data_percent = [round((age_data[i]*100)/len(user_age_data),2) for i in range(7)]"
   ]
  },
  {
   "cell_type": "code",
   "execution_count": null,
   "metadata": {},
   "outputs": [],
   "source": []
  },
  {
   "cell_type": "code",
   "execution_count": 13,
   "metadata": {},
   "outputs": [
    {
     "data": {
      "image/png": "[encoded data removed]",
      "text/plain": [
       "<Figure size 432x288 with 1 Axes>"
      ]
     },
     "metadata": {},
     "output_type": "display_data"
    }
   ],
   "source": [
    "#Pie chart on distribution of User Age\n",
    "age_data_col_name = ['Day1','Day2','Day3','Day4','Day5','Day6 to Day10','Day11 to Day20']\n",
    "color_col = ['#F47A1F','#FDBB2F','#377B2B','#7AC142','#007CC3','#00529B','#F7B7A3']\n",
    "plt.pie(age_data,colors=color_col,startangle=90,shadow=True)\n",
    "plt.legend(labels=age_data_col_name,bbox_to_anchor=(1,0), loc=\"lower right\",bbox_transform=plt.gcf().transFigure)\n",
    "plt.title(\"Percentage of Users Age\")\n",
    "plt.show()"
   ]
  },
  {
   "cell_type": "code",
   "execution_count": 14,
   "metadata": {},
   "outputs": [],
   "source": [
    "df_age = pd.DataFrame({'% users':age_data_percent, 'Age': age_data_col_name})"
   ]
  },
  {
   "cell_type": "code",
   "execution_count": 15,
   "metadata": {},
   "outputs": [
    {
     "data": {
      "text/html": [
       "<div>\n",
       "<style scoped>\n",
       "    .dataframe tbody tr th:only-of-type {\n",
       "        vertical-align: middle;\n",
       "    }\n",
       "\n",
       "    .dataframe tbody tr th {\n",
       "        vertical-align: top;\n",
       "    }\n",
       "\n",
       "    .dataframe thead th {\n",
       "        text-align: right;\n",
       "    }\n",
       "</style>\n",
       "<table border=\"1\" class=\"dataframe\">\n",
       "  <thead>\n",
       "    <tr style=\"text-align: right;\">\n",
       "      <th></th>\n",
       "      <th>% users</th>\n",
       "      <th>Age</th>\n",
       "    </tr>\n",
       "  </thead>\n",
       "  <tbody>\n",
       "    <tr>\n",
       "      <td>0</td>\n",
       "      <td>42.90</td>\n",
       "      <td>Day1</td>\n",
       "    </tr>\n",
       "    <tr>\n",
       "      <td>1</td>\n",
       "      <td>2.48</td>\n",
       "      <td>Day2</td>\n",
       "    </tr>\n",
       "    <tr>\n",
       "      <td>2</td>\n",
       "      <td>2.05</td>\n",
       "      <td>Day3</td>\n",
       "    </tr>\n",
       "    <tr>\n",
       "      <td>3</td>\n",
       "      <td>2.28</td>\n",
       "      <td>Day4</td>\n",
       "    </tr>\n",
       "    <tr>\n",
       "      <td>4</td>\n",
       "      <td>2.33</td>\n",
       "      <td>Day5</td>\n",
       "    </tr>\n",
       "    <tr>\n",
       "      <td>5</td>\n",
       "      <td>11.12</td>\n",
       "      <td>Day6 to Day10</td>\n",
       "    </tr>\n",
       "    <tr>\n",
       "      <td>6</td>\n",
       "      <td>36.84</td>\n",
       "      <td>Day11 to Day20</td>\n",
       "    </tr>\n",
       "  </tbody>\n",
       "</table>\n",
       "</div>"
      ],
      "text/plain": [
       "   % users             Age\n",
       "0    42.90            Day1\n",
       "1     2.48            Day2\n",
       "2     2.05            Day3\n",
       "3     2.28            Day4\n",
       "4     2.33            Day5\n",
       "5    11.12   Day6 to Day10\n",
       "6    36.84  Day11 to Day20"
      ]
     },
     "execution_count": 15,
     "metadata": {},
     "output_type": "execute_result"
    }
   ],
   "source": [
    "df_age"
   ]
  },
  {
   "cell_type": "code",
   "execution_count": null,
   "metadata": {},
   "outputs": [],
   "source": []
  },
  {
   "cell_type": "code",
   "execution_count": 16,
   "metadata": {},
   "outputs": [
    {
     "data": {
      "text/plain": [
       "{'0-1': 330,\n",
       " '1-2': 339,\n",
       " '2-3': 307,\n",
       " '3-4': 311,\n",
       " '4-5': 347,\n",
       " '5-6': 313,\n",
       " '6-7': 331,\n",
       " '7-8': 342,\n",
       " '8-9': 347,\n",
       " '9-10': 315,\n",
       " '10-11': 316,\n",
       " '11-12': 319,\n",
       " '12-13': 350,\n",
       " '13-14': 317,\n",
       " '14-15': 346,\n",
       " '15-16': 354,\n",
       " '16-17': 338,\n",
       " '17-18': 327,\n",
       " '18-19': 344,\n",
       " '19-20': 343,\n",
       " '20-21': 384,\n",
       " '21-22': 342,\n",
       " '22-23': 335,\n",
       " '23-0': 303}"
      ]
     },
     "execution_count": 16,
     "metadata": {},
     "output_type": "execute_result"
    }
   ],
   "source": [
    "#Login frequency of all the users to get the detail at which time users are most active \n",
    "login_freq_dict = { str(i)+\"-\"+str(i+1):login_freq[i] for i in range(23)}\n",
    "login_freq_dict['23-0'] = login_freq[23]\n",
    "login_freq_dict"
   ]
  },
  {
   "cell_type": "code",
   "execution_count": 17,
   "metadata": {},
   "outputs": [],
   "source": [
    "#Getting the top 5 time interval in which users are most active\n",
    "login_top = {k: v for k, v in sorted(login_freq_dict.items(), key=lambda item: item[1], reverse=True)}\n",
    "login_top_5 = {k: login_top[k] for k in list(login_top)[:5]}\n",
    "login_top_5_colour = []\n",
    "for k in login_freq_dict.keys():\n",
    "    if k in login_top_5.keys():\n",
    "        login_top_5_colour.append('r')\n",
    "    else:\n",
    "        login_top_5_colour.append('grey')        "
   ]
  },
  {
   "cell_type": "code",
   "execution_count": 18,
   "metadata": {},
   "outputs": [
    {
     "data": {
      "image/png": "[encoded data removed]",
      "text/plain": [
       "<Figure size 432x288 with 1 Axes>"
      ]
     },
     "metadata": {
      "needs_background": "light"
     },
     "output_type": "display_data"
    }
   ],
   "source": [
    "#Red shows the top 5 users engagement time.\n",
    "plt.bar(login_freq_dict.keys(),login_freq_dict.values(), align='edge', width=0.3, color=login_top_5_colour)\n",
    "plt.title(\"Frequency distribution (in 24 hr) how any user login\")\n",
    "plt.ylabel(\"Users login count\")\n",
    "plt.xlabel(\"Time\")\n",
    "plt.xticks(rotation=60)\n",
    "plt.show()"
   ]
  },
  {
   "cell_type": "code",
   "execution_count": null,
   "metadata": {},
   "outputs": [],
   "source": []
  }
 ],
 "metadata": {
  "kernelspec": {
   "display_name": "Python 3",
   "language": "python",
   "name": "python3"
  },
  "language_info": {
   "codemirror_mode": {
    "name": "ipython",
    "version": 3
   },
   "file_extension": ".py",
   "mimetype": "text/x-python",
   "name": "python",
   "nbconvert_exporter": "python",
   "pygments_lexer": "ipython3",
   "version": "3.7.4"
  }
 },
 "nbformat": 4,
 "nbformat_minor": 2
}
