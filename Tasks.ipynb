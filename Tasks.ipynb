{
 "cells": [
  {
   "cell_type": "code",
   "execution_count": 2,
   "metadata": {},
   "outputs": [],
   "source": [
    "import pandas as pd\n",
    "import numpy as np\n",
    "import string\n",
    "import random\n",
    "import matplotlib.pyplot as plt"
   ]
  },
  {
   "cell_type": "code",
   "execution_count": 3,
   "metadata": {},
   "outputs": [],
   "source": [
    "#Creating a list of user_id\n",
    "def create_user_id(num):\n",
    "    user_id = [''.join(random.choices(string.digits, k=10)) for i in range(num)]\n",
    "    return user_id\n",
    "\n",
    "\n",
    "#Generating Random date and time\n",
    "def random_date_and_time(start, end, n):\n",
    "    return pd.to_datetime(np.random.randint(start.value//(1e9),end.value//(1e9),n), unit='s')\n",
    "\n",
    "\n",
    "#Matching the user_id and date \n",
    "def exact_user_id(user, n):\n",
    "    user_id2 = []\n",
    "    m = len(user)\n",
    "    for i in range(n):\n",
    "        temp = (np.random.randint(0,9999999))%m\n",
    "        user_id2.append(user[temp])\n",
    "    return user_id2\n"
   ]
  },
  {
   "cell_type": "code",
   "execution_count": 58,
   "metadata": {},
   "outputs": [
    {
     "name": "stdout",
     "output_type": "stream",
     "text": [
      "Number of users:\n",
      "10\n",
      "Preferred size of dataset:\n",
      "10\n"
     ]
    }
   ],
   "source": [
    "print(\"Number of users:\")\n",
    "n = int(input())\n",
    "print('Preferred size of dataset:')\n",
    "m = int(input())"
   ]
  },
  {
   "cell_type": "code",
   "execution_count": 59,
   "metadata": {},
   "outputs": [],
   "source": [
    "# start and end date time\n",
    "start = pd.to_datetime('2021-01-01')\n",
    "end = pd.to_datetime('2021-02-01')"
   ]
  },
  {
   "cell_type": "code",
   "execution_count": 60,
   "metadata": {},
   "outputs": [],
   "source": [
    "#Generating all the array\n",
    "userId = create_user_id(n)\n",
    "date = random_date_and_time(start,end,m)\n",
    "date = date.sort_values()\n",
    "user_id = exact_user_id(userId,m)"
   ]
  },
  {
   "cell_type": "code",
   "execution_count": 61,
   "metadata": {},
   "outputs": [],
   "source": [
    "df = pd.DataFrame({'user_id': user_id, 'login_date_time': date, 'event_name':'app_open'})"
   ]
  },
  {
   "cell_type": "code",
   "execution_count": 62,
   "metadata": {},
   "outputs": [
    {
     "data": {
      "text/html": [
       "<div>\n",
       "<style scoped>\n",
       "    .dataframe tbody tr th:only-of-type {\n",
       "        vertical-align: middle;\n",
       "    }\n",
       "\n",
       "    .dataframe tbody tr th {\n",
       "        vertical-align: top;\n",
       "    }\n",
       "\n",
       "    .dataframe thead th {\n",
       "        text-align: right;\n",
       "    }\n",
       "</style>\n",
       "<table border=\"1\" class=\"dataframe\">\n",
       "  <thead>\n",
       "    <tr style=\"text-align: right;\">\n",
       "      <th></th>\n",
       "      <th>user_id</th>\n",
       "      <th>login_date_time</th>\n",
       "      <th>event_name</th>\n",
       "    </tr>\n",
       "  </thead>\n",
       "  <tbody>\n",
       "    <tr>\n",
       "      <td>0</td>\n",
       "      <td>1851742972</td>\n",
       "      <td>2021-01-04 10:57:53</td>\n",
       "      <td>app_open</td>\n",
       "    </tr>\n",
       "    <tr>\n",
       "      <td>1</td>\n",
       "      <td>7610626442</td>\n",
       "      <td>2021-01-09 07:35:29</td>\n",
       "      <td>app_open</td>\n",
       "    </tr>\n",
       "    <tr>\n",
       "      <td>2</td>\n",
       "      <td>1851742972</td>\n",
       "      <td>2021-01-13 21:29:41</td>\n",
       "      <td>app_open</td>\n",
       "    </tr>\n",
       "    <tr>\n",
       "      <td>3</td>\n",
       "      <td>0368664575</td>\n",
       "      <td>2021-01-14 23:02:14</td>\n",
       "      <td>app_open</td>\n",
       "    </tr>\n",
       "    <tr>\n",
       "      <td>4</td>\n",
       "      <td>8779058754</td>\n",
       "      <td>2021-01-16 10:50:49</td>\n",
       "      <td>app_open</td>\n",
       "    </tr>\n",
       "  </tbody>\n",
       "</table>\n",
       "</div>"
      ],
      "text/plain": [
       "      user_id     login_date_time event_name\n",
       "0  1851742972 2021-01-04 10:57:53   app_open\n",
       "1  7610626442 2021-01-09 07:35:29   app_open\n",
       "2  1851742972 2021-01-13 21:29:41   app_open\n",
       "3  0368664575 2021-01-14 23:02:14   app_open\n",
       "4  8779058754 2021-01-16 10:50:49   app_open"
      ]
     },
     "execution_count": 62,
     "metadata": {},
     "output_type": "execute_result"
    }
   ],
   "source": [
    "df.head()"
   ]
  },
  {
   "cell_type": "code",
   "execution_count": 63,
   "metadata": {},
   "outputs": [
    {
     "data": {
      "text/plain": [
       "(10, 3)"
      ]
     },
     "execution_count": 63,
     "metadata": {},
     "output_type": "execute_result"
    }
   ],
   "source": [
    "df.shape"
   ]
  },
  {
   "cell_type": "code",
   "execution_count": 64,
   "metadata": {},
   "outputs": [],
   "source": [
    "df.to_csv(\"output_task_1.csv\", index=False)"
   ]
  },
  {
   "cell_type": "code",
   "execution_count": null,
   "metadata": {},
   "outputs": [],
   "source": []
  },
  {
   "cell_type": "code",
   "execution_count": null,
   "metadata": {},
   "outputs": [],
   "source": []
  },
  {
   "cell_type": "code",
   "execution_count": null,
   "metadata": {},
   "outputs": [],
   "source": []
  },
  {
   "cell_type": "code",
   "execution_count": 65,
   "metadata": {},
   "outputs": [],
   "source": [
    "#Grouping data on basis of user_id\n",
    "df_user_group = df.groupby('user_id')\n",
    "\n",
    "#Age data to store the first and last login\n",
    "#Can be easily achieved using goup by, 0th row and last row in that\n",
    "user_age_data = {}\n",
    "\n",
    "#Login Count store for any User \n",
    "#Can be easily achieved by using group by and shape[0]\n",
    "login_count_data = {}\n",
    "\n",
    "for user_itr, user_itr_df  in df_user_group:\n",
    "    login_count = user_itr_df.shape[0]\n",
    "    if login_count == 1:\n",
    "        user_age_data[user_itr] = 1\n",
    "    else:\n",
    "        user_age_data[user_itr] = (user_itr_df.iloc[login_count-1][\"login_date_time\"] - user_itr_df.iloc[0][\"login_date_time\"]).days + 1\n",
    "    \n",
    "    df_user_login_count = user_itr_df.groupby([user_itr_df['login_date_time'].dt.date])\n",
    "    login_count_data[user_itr] = len(df_user_login_count)\n",
    "        \n",
    "        \n",
    "\n",
    "#Storing the frequency of users that are active in a particular time period of 0-1, 1-2, ...\n",
    "login_freq = [ 0 for i in range(24)]\n",
    "\n",
    "#Login Time grouping\n",
    "df_login_count_group = df.groupby([df['login_date_time'].dt.hour])\n",
    "\n",
    "for time_group, group_count in df_login_count_group:\n",
    "    login_freq[time_group] = group_count.shape[0]"
   ]
  },
  {
   "cell_type": "code",
   "execution_count": 66,
   "metadata": {},
   "outputs": [
    {
     "name": "stdout",
     "output_type": "stream",
     "text": [
      "4\n",
      "5\n",
      "7\n",
      "10\n",
      "12\n",
      "17\n",
      "21\n",
      "23\n"
     ]
    }
   ],
   "source": [
    "df_login_count_group = df.groupby([df['login_date_time'].dt.hour])\n",
    "for i,j in df_login_count_group:\n",
    "    print(i)"
   ]
  },
  {
   "cell_type": "code",
   "execution_count": 67,
   "metadata": {},
   "outputs": [],
   "source": [
    "# df_user_group = df.groupby('user_id')\n",
    "# # df\n",
    "# temp = df_user_group.get_group('1685329763')\n",
    "# temp.groupby([df['login_date_time'].dt.date])\n",
    "# temp"
   ]
  },
  {
   "cell_type": "code",
   "execution_count": null,
   "metadata": {},
   "outputs": [],
   "source": []
  },
  {
   "cell_type": "code",
   "execution_count": null,
   "metadata": {},
   "outputs": [],
   "source": []
  },
  {
   "cell_type": "code",
   "execution_count": 68,
   "metadata": {},
   "outputs": [],
   "source": [
    "#Saving the Login count for the users\n",
    "df_count = pd.DataFrame(login_count_data.items(), columns=['user_id', 'login_count'])\n",
    "df_count.to_csv(\"login_count.csv\",index=False)"
   ]
  },
  {
   "cell_type": "code",
   "execution_count": 69,
   "metadata": {},
   "outputs": [],
   "source": [
    "#The frequency of day wise\n",
    "age_data = [ 0 for _ in range(7)]\n",
    "\n",
    "for key, val in user_age_data.items():\n",
    "    #print(val)\n",
    "    if val>=11 and val<=20:\n",
    "        age_data[6] += 1\n",
    "    elif val<11 and val>=6:\n",
    "        age_data[5] += 1\n",
    "    elif val<6:\n",
    "        age_data[val-1] += 1"
   ]
  },
  {
   "cell_type": "code",
   "execution_count": 70,
   "metadata": {},
   "outputs": [],
   "source": [
    "#Percentage generation for the dataframe\n",
    "age_data_percent = [round((age_data[i]*100)/len(user_age_data),2) for i in range(7)]"
   ]
  },
  {
   "cell_type": "code",
   "execution_count": null,
   "metadata": {},
   "outputs": [],
   "source": []
  },
  {
   "cell_type": "code",
   "execution_count": 71,
   "metadata": {},
   "outputs": [
    {
     "data": {
      "image/png": "[encoded data removed]",
      "text/plain": [
       "<Figure size 432x288 with 1 Axes>"
      ]
     },
     "metadata": {},
     "output_type": "display_data"
    }
   ],
   "source": [
    "#Pie chart on distribution of User Age\n",
    "age_data_col_name = ['Day1','Day2','Day3','Day4','Day5','Day6 to Day10','Day11 to Day20']\n",
    "color_col = ['#F47A1F','#FDBB2F','#377B2B','#7AC142','#007CC3','#00529B','#F7B7A3']\n",
    "plt.pie(age_data,colors=color_col,startangle=90,shadow=True)\n",
    "plt.legend(labels=age_data_col_name,bbox_to_anchor=(1,0), loc=\"lower right\",bbox_transform=plt.gcf().transFigure)\n",
    "plt.title(\"Percentage of Users Age\")\n",
    "plt.show()"
   ]
  },
  {
   "cell_type": "code",
   "execution_count": 72,
   "metadata": {},
   "outputs": [],
   "source": [
    "df_age = pd.DataFrame({'% users':age_data_percent, 'Age': age_data_col_name})\n",
    "df_age['% users'] = df_age['% users'].astype(str) + '%'"
   ]
  },
  {
   "cell_type": "code",
   "execution_count": 73,
   "metadata": {},
   "outputs": [
    {
     "data": {
      "text/html": [
       "<div>\n",
       "<style scoped>\n",
       "    .dataframe tbody tr th:only-of-type {\n",
       "        vertical-align: middle;\n",
       "    }\n",
       "\n",
       "    .dataframe tbody tr th {\n",
       "        vertical-align: top;\n",
       "    }\n",
       "\n",
       "    .dataframe thead th {\n",
       "        text-align: right;\n",
       "    }\n",
       "</style>\n",
       "<table border=\"1\" class=\"dataframe\">\n",
       "  <thead>\n",
       "    <tr style=\"text-align: right;\">\n",
       "      <th></th>\n",
       "      <th>% users</th>\n",
       "      <th>Age</th>\n",
       "    </tr>\n",
       "  </thead>\n",
       "  <tbody>\n",
       "    <tr>\n",
       "      <td>0</td>\n",
       "      <td>50.0%</td>\n",
       "      <td>Day1</td>\n",
       "    </tr>\n",
       "    <tr>\n",
       "      <td>1</td>\n",
       "      <td>0.0%</td>\n",
       "      <td>Day2</td>\n",
       "    </tr>\n",
       "    <tr>\n",
       "      <td>2</td>\n",
       "      <td>0.0%</td>\n",
       "      <td>Day3</td>\n",
       "    </tr>\n",
       "    <tr>\n",
       "      <td>3</td>\n",
       "      <td>0.0%</td>\n",
       "      <td>Day4</td>\n",
       "    </tr>\n",
       "    <tr>\n",
       "      <td>4</td>\n",
       "      <td>0.0%</td>\n",
       "      <td>Day5</td>\n",
       "    </tr>\n",
       "    <tr>\n",
       "      <td>5</td>\n",
       "      <td>0.0%</td>\n",
       "      <td>Day6 to Day10</td>\n",
       "    </tr>\n",
       "    <tr>\n",
       "      <td>6</td>\n",
       "      <td>50.0%</td>\n",
       "      <td>Day11 to Day20</td>\n",
       "    </tr>\n",
       "  </tbody>\n",
       "</table>\n",
       "</div>"
      ],
      "text/plain": [
       "  % users             Age\n",
       "0   50.0%            Day1\n",
       "1    0.0%            Day2\n",
       "2    0.0%            Day3\n",
       "3    0.0%            Day4\n",
       "4    0.0%            Day5\n",
       "5    0.0%   Day6 to Day10\n",
       "6   50.0%  Day11 to Day20"
      ]
     },
     "execution_count": 73,
     "metadata": {},
     "output_type": "execute_result"
    }
   ],
   "source": [
    "df_age"
   ]
  },
  {
   "cell_type": "code",
   "execution_count": 74,
   "metadata": {},
   "outputs": [],
   "source": [
    "#Saving the age percentage to a csv\n",
    "df_age.to_csv(\"user_age.csv\", index=False)"
   ]
  },
  {
   "cell_type": "code",
   "execution_count": 75,
   "metadata": {},
   "outputs": [
    {
     "data": {
      "text/plain": [
       "{'0-1': 0,\n",
       " '1-2': 0,\n",
       " '2-3': 0,\n",
       " '3-4': 0,\n",
       " '4-5': 1,\n",
       " '5-6': 1,\n",
       " '6-7': 0,\n",
       " '7-8': 1,\n",
       " '8-9': 0,\n",
       " '9-10': 0,\n",
       " '10-11': 3,\n",
       " '11-12': 0,\n",
       " '12-13': 1,\n",
       " '13-14': 0,\n",
       " '14-15': 0,\n",
       " '15-16': 0,\n",
       " '16-17': 0,\n",
       " '17-18': 1,\n",
       " '18-19': 0,\n",
       " '19-20': 0,\n",
       " '20-21': 0,\n",
       " '21-22': 1,\n",
       " '22-23': 0,\n",
       " '23-0': 1}"
      ]
     },
     "execution_count": 75,
     "metadata": {},
     "output_type": "execute_result"
    }
   ],
   "source": [
    "#Login frequency of all the users to get the detail at which time users are most active \n",
    "login_freq_dict = { str(i)+\"-\"+str(i+1):login_freq[i] for i in range(23)}\n",
    "login_freq_dict['23-0'] = login_freq[23]\n",
    "login_freq_dict"
   ]
  },
  {
   "cell_type": "code",
   "execution_count": 76,
   "metadata": {},
   "outputs": [],
   "source": [
    "#Getting the top 5 time interval in which users are most active\n",
    "login_top = {k: v for k, v in sorted(login_freq_dict.items(), key=lambda item: item[1], reverse=True)}\n",
    "login_top_5 = {k: login_top[k] for k in list(login_top)[:5]}\n",
    "login_top_5_colour = []\n",
    "for k in login_freq_dict.keys():\n",
    "    if k in login_top_5.keys():\n",
    "        login_top_5_colour.append('r')\n",
    "    else:\n",
    "        login_top_5_colour.append('grey')        "
   ]
  },
  {
   "cell_type": "code",
   "execution_count": 77,
   "metadata": {},
   "outputs": [
    {
     "data": {
      "image/png": "[encoded data removed]",
      "text/plain": [
       "<Figure size 432x288 with 1 Axes>"
      ]
     },
     "metadata": {
      "needs_background": "light"
     },
     "output_type": "display_data"
    }
   ],
   "source": [
    "#Red shows the top 5 users engagement time.\n",
    "plt.bar(login_freq_dict.keys(),login_freq_dict.values(), align='edge', width=0.3, color=login_top_5_colour)\n",
    "plt.title(\"Frequency distribution (in 24 hr) how any user login\")\n",
    "plt.ylabel(\"Users login count\")\n",
    "plt.xlabel(\"Time\")\n",
    "plt.xticks(rotation=60)\n",
    "plt.show()"
   ]
  },
  {
   "cell_type": "code",
   "execution_count": null,
   "metadata": {},
   "outputs": [],
   "source": []
  },
  {
   "cell_type": "code",
   "execution_count": null,
   "metadata": {},
   "outputs": [],
   "source": []
  }
 ],
 "metadata": {
  "kernelspec": {
   "display_name": "Python 3",
   "language": "python",
   "name": "python3"
  },
  "language_info": {
   "codemirror_mode": {
    "name": "ipython",
    "version": 3
   },
   "file_extension": ".py",
   "mimetype": "text/x-python",
   "name": "python",
   "nbconvert_exporter": "python",
   "pygments_lexer": "ipython3",
   "version": "3.7.4"
  }
 },
 "nbformat": 4,
 "nbformat_minor": 2
}
